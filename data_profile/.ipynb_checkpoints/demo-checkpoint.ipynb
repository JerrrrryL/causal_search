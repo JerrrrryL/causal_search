{
 "cells": [
  {
   "cell_type": "code",
   "execution_count": null,
   "id": "366f41db-a7fb-40e2-969b-d43474a49eb9",
   "metadata": {
    "tags": []
   },
   "outputs": [],
   "source": [
    "!pip install torch\n",
    "!pip install duckdb\n",
    "!pip install graphviz\n",
    "!pip install semopy\n",
    "!pip install psy\n",
    "!pip install pygam\n",
    "!pip install wbdata"
   ]
  },
  {
   "cell_type": "code",
   "execution_count": 5,
   "id": "f842f0ba-613b-4832-ae7f-43da6740473d",
   "metadata": {
    "tags": []
   },
   "outputs": [],
   "source": [
    "import os\n",
    "from synthetic_exp import *\n",
    "from preprocess import *"
   ]
  },
  {
   "cell_type": "code",
   "execution_count": 3,
   "id": "c5f1cab7-0856-4958-980c-c62bb8388fad",
   "metadata": {
    "tags": []
   },
   "outputs": [],
   "source": [
    "runs = 100\n",
    "num_nodes = [10, 50, 100, 500]\n",
    "# mi_thresholds = [0.005, 0.01, 0.02, 0.05, 0.1]\n",
    "mi_thresholds = [0.02]\n",
    "gen_synthetic_data(runs, num_nodes, 10000)"
   ]
  },
  {
   "cell_type": "code",
   "execution_count": 11,
   "id": "7774e4b7-922e-40fc-8030-3b66d4c662f8",
   "metadata": {
    "tags": []
   },
   "outputs": [
    {
     "name": "stdout",
     "output_type": "stream",
     "text": [
      "Treatment: V3, Outcome: V5, Error: 1.262368275913304e-07, Estimation: 2.6237188539138545, Ground Truth: 2.624074152137311\n",
      "Treatment: V3, Outcome: V5, Error: 0.0, Estimation: 3.272913085285953, Ground Truth: 3.272913085285953\n",
      "Treatment: V4, Outcome: V5, Error: 0.0, Estimation: -0.00040197919605490225, Ground Truth: -0.00040197919605490225\n",
      "Treatment: V4, Outcome: V9, Error: 0.0, Estimation: 0.1994621089520616, Ground Truth: 0.1994621089520616\n",
      "Treatment: V5, Outcome: V8, Error: 5.75040532773723e-07, Estimation: 1.3688248622024826, Ground Truth: 1.3695831764729363\n",
      "Treatment: V5, Outcome: V7, Error: 7.895018954477894e-18, Estimation: 0.013188708491799345, Ground Truth: 0.013188711301606981\n",
      "Treatment: V3, Outcome: V6, Error: 0.0, Estimation: 0.0066701691331114, Ground Truth: 0.0066701691331114\n",
      "Treatment: V5, Outcome: V8, Error: 4.770191698530736e-16, Estimation: -0.1672742626117427, Ground Truth: -0.16727424077097416\n",
      "Treatment: V5, Outcome: V8, Error: 0.0, Estimation: 0.023902431553334404, Ground Truth: 0.023902431553334404\n",
      "Treatment: V5, Outcome: V7, Error: 2.366417431532224e-17, Estimation: -0.03453953904734681, Ground Truth: -0.034539534182763135\n",
      "Treatment: V4, Outcome: V9, Error: 5.046302476963219e-19, Estimation: 1.3876352183141745, Ground Truth: 1.3876352190245478\n",
      "Treatment: V3, Outcome: V8, Error: 0.0, Estimation: -0.06049863385185402, Ground Truth: -0.06049863385185402\n",
      "Treatment: V3, Outcome: V7, Error: 5.983472928201053e-16, Estimation: 0.055692636539958124, Ground Truth: 0.0556926120788197\n",
      "Treatment: V3, Outcome: V7, Error: 0.0238909243497332, Estimation: 2.1862000664915957, Ground Truth: 2.3407669592912286\n",
      "Treatment: V3, Outcome: V5, Error: 0.0, Estimation: -0.005572023636645087, Ground Truth: -0.005572023636645087\n",
      "Treatment: V4, Outcome: V6, Error: 1.2297889037183545e-09, Estimation: 0.011199339690542423, Ground Truth: 0.011164271344363591\n",
      "Treatment: V3, Outcome: V7, Error: 0.0, Estimation: 0.1436596832372456, Ground Truth: 0.1436596832372456\n",
      "Treatment: V3, Outcome: V4, Error: 0.0, Estimation: 1.7065544478216501, Ground Truth: 1.7065544478216501\n",
      "Treatment: V3, Outcome: V4, Error: 0.0, Estimation: -0.011419450824735205, Ground Truth: -0.011419450824735205\n",
      "Treatment: V5, Outcome: V6, Error: 3.174410215015228e-11, Estimation: -0.005076425482930912, Ground Truth: -0.005082059673391853\n",
      "Treatment: V4, Outcome: V8, Error: 3.429396528202326e-08, Estimation: 0.004822454046013366, Ground Truth: 0.005007640344864073\n",
      "Treatment: V4, Outcome: V8, Error: 0.0, Estimation: 1.2418268256394316, Ground Truth: 1.2418268256394316\n",
      "Treatment: V3, Outcome: V7, Error: 1.4814713163296867e-17, Estimation: 0.010596582430965796, Ground Truth: 0.010596578581977207\n",
      "Treatment: V4, Outcome: V5, Error: 4.9888301122261705e-08, Estimation: 0.012876361825000735, Ground Truth: 0.012653004933183488\n",
      "Treatment: V3, Outcome: V7, Error: 0.0, Estimation: 0.1357454891091139, Ground Truth: 0.1357454891091139\n",
      "Treatment: V4, Outcome: V9, Error: 1.6756924708895004e-18, Estimation: 0.11288981659111139, Ground Truth: 0.11288981529662598\n",
      "Treatment: V3, Outcome: V8, Error: 7.251733781319323e-10, Estimation: 6.207650588183232, Ground Truth: 6.207677517226626\n",
      "Treatment: V4, Outcome: V7, Error: 7.294000410433927e-19, Estimation: -0.0004257497013090821, Ground Truth: -0.00042574884725987916\n",
      "Treatment: V3, Outcome: V8, Error: 1.517147978360074e-17, Estimation: -0.05847122111048124, Ground Truth: -0.05847122500553962\n",
      "Treatment: V4, Outcome: V6, Error: 3.678717597979833e-10, Estimation: -0.009694289678337976, Ground Truth: -0.009675109695027296\n",
      "Treatment: V5, Outcome: V8, Error: 0.0, Estimation: 0.007359524438768156, Ground Truth: 0.007359524438768156\n",
      "Treatment: V5, Outcome: V7, Error: 8.456134701271307e-09, Estimation: 3.4865646927371197, Ground Truth: 3.4866566499809957\n",
      "Treatment: V5, Outcome: V6, Error: 1.1334951628783573e-17, Estimation: -0.005247558654359145, Ground Truth: -0.005247555287617155\n",
      "Treatment: V5, Outcome: V6, Error: 0.0, Estimation: -0.013369205398294318, Ground Truth: -0.013369205398294318\n",
      "Treatment: V4, Outcome: V6, Error: 0.0, Estimation: 0.02564964763246831, Ground Truth: 0.02564964763246831\n",
      "Treatment: V5, Outcome: V9, Error: 2.959266712020274e-08, Estimation: 0.029360831640134567, Ground Truth: 0.029532856833406375\n",
      "Treatment: V4, Outcome: V5, Error: 6.086298001931985e-05, Estimation: 1.1156709611511548, Ground Truth: 1.107869488212067\n",
      "Treatment: V5, Outcome: V6, Error: 0.0, Estimation: 1.5054015850445295, Ground Truth: 1.5054015850445295\n",
      "Treatment: V5, Outcome: V6, Error: 3.950902832602068e-09, Estimation: 0.004067844563730199, Ground Truth: 0.00400498835614016\n",
      "Treatment: V4, Outcome: V5, Error: 2.085526947135102e-11, Estimation: 0.007570842453652789, Ground Truth: 0.007575409210649976\n",
      "Treatment: V3, Outcome: V6, Error: 3.482491168191549e-18, Estimation: -0.006843055108001576, Ground Truth: -0.0068430569741449706\n",
      "Treatment: V3, Outcome: V4, Error: 0.0, Estimation: -0.003718987630101217, Ground Truth: -0.003718987630101217\n",
      "Treatment: V5, Outcome: V9, Error: 3.641765951532786e-18, Estimation: 0.7962662049919885, Ground Truth: 0.7962662069003297\n",
      "Treatment: V3, Outcome: V6, Error: 1.4703730298152565e-18, Estimation: -0.0026111328197208935, Ground Truth: -0.002611134032310284\n",
      "Treatment: V3, Outcome: V6, Error: 0.0, Estimation: -0.06107723817907344, Ground Truth: -0.06107723817907344\n",
      "Treatment: V4, Outcome: V8, Error: 0.0, Estimation: 0.010303740725991143, Ground Truth: 0.010303740725991143\n",
      "Treatment: V3, Outcome: V8, Error: 0.0, Estimation: -0.004231270474490125, Ground Truth: -0.004231270474490125\n",
      "Treatment: V4, Outcome: V9, Error: 1.5810694305874758e-08, Estimation: 0.05140788933968498, Ground Truth: 0.051533629923053575\n",
      "Treatment: V3, Outcome: V4, Error: 0.0, Estimation: 0.036475643834289806, Ground Truth: 0.036475643834289806\n",
      "Treatment: V4, Outcome: V6, Error: 5.548166982626744e-07, Estimation: -0.016336763177412197, Ground Truth: -0.017081623364469254\n",
      "Treatment: V5, Outcome: V9, Error: 0.0, Estimation: -0.019911647765471704, Ground Truth: -0.019911647765471704\n",
      "Treatment: V3, Outcome: V8, Error: 8.018319369245663e-05, Estimation: 0.7545584446510075, Ground Truth: 0.7456039377582492\n",
      "Treatment: V4, Outcome: V9, Error: 0.0, Estimation: 1.797744227862591, Ground Truth: 1.797744227862591\n",
      "Treatment: V3, Outcome: V5, Error: 7.455027004964307e-19, Estimation: 0.006015163465163225, Ground Truth: 0.006015162601738243\n",
      "Treatment: V5, Outcome: V6, Error: 4.138460758806671e-18, Estimation: 2.6171294504377496, Ground Truth: 2.617129448403429\n",
      "Treatment: V4, Outcome: V6, Error: 1.9402545707504357e-10, Estimation: 0.03303699858993286, Ground Truth: 0.033023069287829915\n",
      "Treatment: V5, Outcome: V8, Error: 1.0193654108653572e-08, Estimation: -0.03171876718593206, Ground Truth: -0.03181973081358407\n",
      "Treatment: V4, Outcome: V5, Error: 7.737638195484055e-09, Estimation: -0.011702929454498549, Ground Truth: -0.011614965608541906\n",
      "Treatment: V4, Outcome: V5, Error: 0.0, Estimation: 0.0018215115259780485, Ground Truth: 0.0018215115259780485\n",
      "Treatment: V4, Outcome: V5, Error: 1.1026275673360083e-19, Estimation: 0.010428280221230345, Ground Truth: 0.010428280553288708\n",
      "Treatment: V3, Outcome: V8, Error: 0.021131938499918505, Estimation: -0.01046014375322051, Ground Truth: -0.15582842949642692\n",
      "Treatment: V4, Outcome: V7, Error: 5.6597017711007214e-18, Estimation: 0.006213197319233441, Ground Truth: 0.006213194940220669\n",
      "Treatment: V5, Outcome: V8, Error: 1.719660270849161e-08, Estimation: 0.0002957364879740513, Ground Truth: 0.00042687230576801487\n",
      "Treatment: V3, Outcome: V8, Error: 2.4064444727399997e-18, Estimation: 0.9993623475401328, Ground Truth: 0.9993623459888609\n",
      "Treatment: V5, Outcome: V7, Error: 4.4631851761057975e-18, Estimation: 1.475910738035586, Ground Truth: 1.4759107401482112\n",
      "Treatment: V3, Outcome: V4, Error: 8.414552648151215e-09, Estimation: -0.004868608897827811, Ground Truth: -0.00496033976857562\n",
      "Treatment: V3, Outcome: V8, Error: 0.0007977814961264644, Estimation: 3.541580452123595, Ground Truth: 3.569825478165829\n",
      "Treatment: V4, Outcome: V5, Error: 3.851776909513728e-12, Estimation: 0.006331226805285781, Ground Truth: 0.0063292642108525084\n",
      "Treatment: V4, Outcome: V7, Error: 1.0325222282904882e-18, Estimation: -0.001337484780338742, Ground Truth: -0.0013374837642077327\n",
      "Treatment: V4, Outcome: V7, Error: 0.0, Estimation: 0.18487006909252082, Ground Truth: 0.18487006909252082\n",
      "Treatment: V4, Outcome: V9, Error: 0.0, Estimation: -0.020473869195965035, Ground Truth: -0.020473869195965035\n",
      "Treatment: V3, Outcome: V6, Error: 2.123008188677613e-17, Estimation: -0.035145553426127324, Ground Truth: -0.035145548818516024\n",
      "Treatment: V5, Outcome: V8, Error: 0.00027253630656581487, Estimation: 0.8307731190984632, Ground Truth: 0.8142644454217012\n",
      "Treatment: V3, Outcome: V5, Error: 5.26377838058777e-18, Estimation: -0.0011081791287123515, Ground Truth: -0.001108181423004918\n",
      "Treatment: V3, Outcome: V7, Error: 0.0, Estimation: 4.71165043783542, Ground Truth: 4.71165043783542\n",
      "Treatment: V4, Outcome: V8, Error: 1.403315724494891e-15, Estimation: 0.0525107504038495, Ground Truth: 0.0525107129429936\n",
      "Treatment: V4, Outcome: V5, Error: 8.679813474303055e-17, Estimation: 0.04665481714768803, Ground Truth: 0.046654807831136375\n",
      "Treatment: V5, Outcome: V9, Error: 0.0, Estimation: -0.01954873719040732, Ground Truth: -0.01954873719040732\n",
      "Treatment: V4, Outcome: V5, Error: 6.413733261951359e-17, Estimation: 3.4564847539727404, Ground Truth: 3.4564847459641617\n",
      "Treatment: V3, Outcome: V5, Error: 0.0, Estimation: 0.08267718795314682, Ground Truth: 0.08267718795314682\n",
      "Treatment: V5, Outcome: V9, Error: 6.975050047221952e-18, Estimation: 0.04601407862182967, Ground Truth: 0.04601407598079767\n",
      "Treatment: V3, Outcome: V6, Error: 1.6511133200621905e-08, Estimation: 1.782967766116015, Ground Truth: 1.7828392704616114\n",
      "Treatment: V5, Outcome: V8, Error: 0.0, Estimation: 0.007566088776766439, Ground Truth: 0.007566088776766439\n",
      "Treatment: V5, Outcome: V7, Error: 0.0, Estimation: 0.007292653893896337, Ground Truth: 0.007292653893896337\n",
      "Treatment: V4, Outcome: V7, Error: 0.0, Estimation: -0.03151489438248339, Ground Truth: -0.03151489438248339\n",
      "Treatment: V5, Outcome: V6, Error: 1.2843970482936496e-18, Estimation: 0.003913615276082801, Ground Truth: 0.003913616409395224\n",
      "Treatment: V5, Outcome: V8, Error: 2.481273227219865e-06, Estimation: -0.016359581538281688, Ground Truth: -0.014784375765304753\n",
      "Treatment: V3, Outcome: V4, Error: 2.100655291448426e-20, Estimation: -0.012075841179115364, Ground Truth: -0.012075841324051739\n",
      "Treatment: V4, Outcome: V9, Error: 1.216664578243336e-16, Estimation: -0.00656863036729653, Ground Truth: -0.006568641397548468\n",
      "Treatment: V3, Outcome: V6, Error: 9.222093620127359e-18, Estimation: -0.010301540002445929, Ground Truth: -0.010301543039235948\n",
      "Treatment: V4, Outcome: V6, Error: 0.0, Estimation: 0.001441116841969373, Ground Truth: 0.001441116841969373\n",
      "Treatment: V3, Outcome: V4, Error: 0.0, Estimation: 0.044587650912844376, Ground Truth: 0.044587650912844376\n",
      "Treatment: V5, Outcome: V9, Error: 1.2367089151760045e-06, Estimation: 0.01269550417714909, Ground Truth: 0.011583430027114119\n",
      "Treatment: V4, Outcome: V5, Error: 3.7009114942317983e-10, Estimation: 3.9708377431363417, Ground Truth: 3.970856980889574\n",
      "Treatment: V3, Outcome: V7, Error: 4.416172235509971e-18, Estimation: -0.0022904424514293914, Ground Truth: -0.0022904445528984575\n",
      "Treatment: V3, Outcome: V7, Error: 0.0003142435583404149, Estimation: -0.008935820970054137, Ground Truth: 0.008791095240624328\n",
      "Treatment: V5, Outcome: V9, Error: 4.783083390562236e-07, Estimation: 0.018394673939292953, Ground Truth: 0.017703075544951104\n",
      "Treatment: V4, Outcome: V9, Error: 1.0317663634243218e-17, Estimation: 0.5478880855947241, Ground Truth: 0.5478880888068361\n",
      "Treatment: V5, Outcome: V8, Error: 1.248164254839993e-17, Estimation: 0.009755053698892551, Ground Truth: 0.009755050165955735\n",
      "Treatment: V4, Outcome: V6, Error: 0.0, Estimation: 0.7404301772052108, Ground Truth: 0.7404301772052108\n",
      "Treatment: V16, Outcome: V34, Error: 0.0018923046536608475, Estimation: 0.4199035564332852, Ground Truth: 0.46340418463174743\n",
      "Treatment: V18, Outcome: V27, Error: 0.00021880173475875286, Estimation: 0.8879613856405815, Ground Truth: 0.8731694373321688\n",
      "Treatment: V12, Outcome: V27, Error: 1.538548167133958e-05, Estimation: 1.2119662873398882, Ground Truth: 1.2158887204714202\n",
      "Treatment: V22, Outcome: V44, Error: 0.0007239619196378869, Estimation: 1.5741885500172088, Ground Truth: 1.601095090479295\n",
      "Treatment: V25, Outcome: V45, Error: 0.002978858522590675, Estimation: 0.2598376176256602, Ground Truth: 0.31441653775596945\n",
      "Treatment: V15, Outcome: V39, Error: 0.00036943396185172556, Estimation: 0.9138830669830177, Ground Truth: 0.9331037319520484\n",
      "Treatment: V13, Outcome: V29, Error: 0.07330614400666587, Estimation: 1.08868388664482, Ground Truth: 1.3594349605238831\n",
      "Treatment: V10, Outcome: V11, Error: 9.367907456304595e-17, Estimation: 0.9730124038775733, Ground Truth: 0.9730124135563684\n",
      "Treatment: V18, Outcome: V33, Error: 0.00015939507588362098, Estimation: 0.26952305093838047, Ground Truth: 0.2568978746669924\n",
      "Treatment: V25, Outcome: V30, Error: 5.64157239481396e-06, Estimation: 0.37884690417700145, Ground Truth: 0.381222103620167\n",
      "Treatment: V18, Outcome: V34, Error: 1.56545432414955e-05, Estimation: 0.2885162410257878, Ground Truth: 0.2845596587580351\n",
      "Treatment: V13, Outcome: V27, Error: 0.00020769277570439765, Estimation: -0.4188649526510354, Ground Truth: -0.43327650273089835\n",
      "Treatment: V15, Outcome: V24, Error: 9.587288616636658e-07, Estimation: 0.27906892546121453, Ground Truth: 0.27808977845403754\n",
      "Treatment: V22, Outcome: V29, Error: 0.0004117416932006697, Estimation: 0.02817510038959368, Ground Truth: 0.04846651959083906\n",
      "Treatment: V19, Outcome: V27, Error: 0.0011263003881485587, Estimation: 0.007188406312004755, Ground Truth: -0.026371992793914095\n",
      "Treatment: V16, Outcome: V40, Error: 0.00020460977285286484, Estimation: 0.9340416732657981, Ground Truth: 0.9483458605147426\n",
      "Treatment: V20, Outcome: V35, Error: 2.506779834992108e-10, Estimation: -0.01010155760157069, Ground Truth: -0.010085724788065213\n",
      "Treatment: V13, Outcome: V15, Error: 0.0001039517769619858, Estimation: 0.48343270267653793, Ground Truth: 0.47323702825245073\n",
      "Treatment: V25, Outcome: V39, Error: 0.004913396175397887, Estimation: 0.0009409133385896033, Ground Truth: -0.06915470831781549\n",
      "Treatment: V15, Outcome: V38, Error: 0.0013900281196567621, Estimation: 2.7535964658544967, Ground Truth: 2.7908795467311727\n",
      "Treatment: V21, Outcome: V25, Error: 3.50612595098338e-05, Estimation: 0.01339977406241711, Ground Truth: 0.01932102895558239\n",
      "Treatment: V10, Outcome: V18, Error: 1.1461197360114773e-05, Estimation: 1.9008453553740188, Ground Truth: 1.9042307943943106\n",
      "Treatment: V12, Outcome: V22, Error: 2.7038103041610357e-06, Estimation: 0.5047888844194821, Ground Truth: 0.5064332111218625\n",
      "Treatment: V16, Outcome: V27, Error: 1.463595866793472e-17, Estimation: -0.16638740136329935, Ground Truth: -0.1663874051889965\n",
      "Treatment: V10, Outcome: V31, Error: 0.0, Estimation: 0.10853672802844826, Ground Truth: 0.10853672802844826\n",
      "Treatment: V14, Outcome: V20, Error: 0.0, Estimation: 0.39474687162882244, Ground Truth: 0.39474687162882244\n",
      "Treatment: V21, Outcome: V38, Error: 8.263813590613122e-05, Estimation: 0.6160337613816246, Ground Truth: 0.6251243133949036\n",
      "Treatment: V10, Outcome: V13, Error: 2.5111557729730542e-08, Estimation: 0.9846541218498279, Ground Truth: 0.9844956555829768\n",
      "Treatment: V15, Outcome: V27, Error: 2.212485554429747e-08, Estimation: 0.8779318441765608, Ground Truth: 0.8777830999143377\n",
      "Treatment: V12, Outcome: V33, Error: 3.2971834081110386e-05, Estimation: 2.0547920738753955, Ground Truth: 2.0490499632807526\n",
      "Treatment: V10, Outcome: V11, Error: 8.248441143742254e-06, Estimation: 0.013288819011215517, Ground Truth: 0.01616082895962138\n",
      "Treatment: V16, Outcome: V37, Error: 1.7279167736271027e-17, Estimation: 0.4224613418392149, Ground Truth: 0.4224613376823931\n",
      "Treatment: V24, Outcome: V28, Error: 0.0007896494521528843, Estimation: 0.006165373522520238, Ground Truth: -0.02193532846431426\n",
      "Treatment: V25, Outcome: V40, Error: 6.981147644700348e-14, Estimation: 0.3553183653315837, Ground Truth: 0.3553181011129688\n",
      "Treatment: V13, Outcome: V22, Error: 0.00021383977957202869, Estimation: 0.5607312723568911, Ground Truth: 0.5461080107654394\n",
      "Treatment: V10, Outcome: V13, Error: 4.742127146431279e-18, Estimation: -0.1497332859782145, Ground Truth: -0.14973328380057194\n",
      "Treatment: V10, Outcome: V30, Error: 1.746814546905037e-05, Estimation: 0.6184313484869531, Ground Truth: 0.6142518574331225\n",
      "Treatment: V18, Outcome: V22, Error: 0.0025630099899285608, Estimation: 0.65803924596855, Ground Truth: 0.7086654248676982\n",
      "Treatment: V18, Outcome: V29, Error: 0.00013300106832957818, Estimation: 0.11457924793802432, Ground Truth: 0.10304663902548514\n",
      "Treatment: V17, Outcome: V41, Error: 0.013275597525523226, Estimation: 0.19840869758929855, Ground Truth: 0.08318891836054275\n",
      "Treatment: V15, Outcome: V19, Error: 1.9214322272334216e-15, Estimation: 0.07503214836417489, Ground Truth: 0.07503210453003036\n",
      "Treatment: V14, Outcome: V39, Error: 6.772851597893559e-05, Estimation: 0.5614271537500578, Ground Truth: 0.5696568874018193\n",
      "Treatment: V22, Outcome: V42, Error: 0.08750704789009893, Estimation: 0.4192543059850296, Ground Truth: 0.12343840396132344\n",
      "Treatment: V12, Outcome: V34, Error: 0.01209915969356576, Estimation: 0.5040219134592496, Ground Truth: 0.39402573310026734\n",
      "Treatment: V16, Outcome: V29, Error: 1.873967817242701e-18, Estimation: 0.07381412028168592, Ground Truth: 0.07381411891275648\n",
      "Treatment: V16, Outcome: V41, Error: 3.995940708254041e-05, Estimation: 0.4518579796746145, Ground Truth: 0.45817932502845654\n",
      "Treatment: V20, Outcome: V38, Error: 1.2639343236387599e-05, Estimation: 0.45795057996538996, Ground Truth: 0.4615057653665171\n",
      "Treatment: V10, Outcome: V19, Error: 0.0005785122939144713, Estimation: 0.1802739092744743, Ground Truth: 0.2043261917839259\n",
      "Treatment: V11, Outcome: V13, Error: 1.1682347817895907e-06, Estimation: 0.7902883489228278, Ground Truth: 0.7892074998205987\n",
      "Treatment: V22, Outcome: V26, Error: 0.0002739572261478199, Estimation: 0.06535896438988889, Ground Truth: 0.04880731111452634\n",
      "Treatment: V14, Outcome: V33, Error: 0.005293269046576168, Estimation: 1.8671233426278573, Ground Truth: 1.7943684867996985\n",
      "Treatment: V18, Outcome: V34, Error: 6.688100184525827e-06, Estimation: 0.880631597193609, Ground Truth: 0.8832177333432588\n",
      "Treatment: V20, Outcome: V41, Error: 0.0013642729761421193, Estimation: 0.12212955993085474, Ground Truth: 0.0851934938687777\n",
      "Treatment: V18, Outcome: V23, Error: 0.002597948521620746, Estimation: 0.6193427977384366, Ground Truth: 0.6703128725041336\n",
      "Treatment: V24, Outcome: V49, Error: 0.0003274184510884158, Estimation: -0.0019355708243580646, Ground Truth: 0.016159136995565853\n",
      "Treatment: V12, Outcome: V36, Error: 2.6085454992438956e-06, Estimation: 0.9192956916186571, Ground Truth: 0.917680592395933\n",
      "Treatment: V17, Outcome: V35, Error: 0.016427869310327144, Estimation: 0.012466996021070728, Ground Truth: 0.1406382459577361\n",
      "Treatment: V16, Outcome: V29, Error: 0.0008013724014184564, Estimation: -0.0035430740296167793, Ground Truth: 0.024765447680611334\n",
      "Treatment: V25, Outcome: V44, Error: 1.5530905983767948e-06, Estimation: 0.4922311127108332, Ground Truth: 0.4934773432667003\n",
      "Treatment: V22, Outcome: V46, Error: 0.001459289303971575, Estimation: 0.6603079688399276, Ground Truth: 0.6221073235054365\n",
      "Treatment: V16, Outcome: V19, Error: 0.006390507461966356, Estimation: 0.010935129341829258, Ground Truth: 0.09087577896369783\n",
      "Treatment: V17, Outcome: V24, Error: 9.841484158449018e-05, Estimation: 0.037286198721775396, Ground Truth: 0.027365773247810574\n",
      "Treatment: V13, Outcome: V24, Error: 0.0005609092306982267, Estimation: 0.009736071705233221, Ground Truth: -0.013947450640444729\n",
      "Treatment: V19, Outcome: V26, Error: 6.0064510784409445e-05, Estimation: 1.1065816863795175, Ground Truth: 1.0988315566525768\n",
      "Treatment: V11, Outcome: V23, Error: 0.0, Estimation: 0.36871138285712757, Ground Truth: 0.36871138285712757\n",
      "Treatment: V24, Outcome: V32, Error: 0.00041983030449143087, Estimation: 0.12365262735071454, Ground Truth: 0.10316286638355265\n",
      "Treatment: V14, Outcome: V28, Error: 0.0005458853011501846, Estimation: 0.3292206187135232, Ground Truth: 0.3058564302801497\n",
      "Treatment: V10, Outcome: V17, Error: 0.024248675930586917, Estimation: 1.1364506508558174, Ground Truth: 0.980730787220548\n",
      "Treatment: V14, Outcome: V29, Error: 0.00013703333685261216, Estimation: 0.7129012725820361, Ground Truth: 0.7246073964858999\n",
      "Treatment: V11, Outcome: V35, Error: 1.0345138972744525e-05, Estimation: 1.9915890780687056, Ground Truth: 1.988372692057552\n",
      "Treatment: V17, Outcome: V39, Error: 6.072570791525928e-13, Estimation: 3.553799545302646, Ground Truth: 3.55380032456966\n",
      "Treatment: V20, Outcome: V32, Error: 0.00014358249415276274, Estimation: 0.3027392443983303, Ground Truth: 0.2907566531029233\n",
      "Treatment: V10, Outcome: V19, Error: 4.5543263652141486e-08, Estimation: 1.4028555099086943, Ground Truth: 1.4026421012311479\n",
      "Treatment: V10, Outcome: V29, Error: 8.741748816700061e-07, Estimation: 3.4510685616711485, Ground Truth: 3.4501335884727786\n",
      "Treatment: V17, Outcome: V33, Error: 3.931042902287719e-05, Estimation: 0.5568590718492465, Ground Truth: 0.5631288747985327\n",
      "Treatment: V18, Outcome: V23, Error: 2.947642782520142e-05, Estimation: 0.015410131642955616, Ground Truth: 0.020839351460314407\n",
      "Treatment: V19, Outcome: V38, Error: 1.0984053440016005e-05, Estimation: -0.019021933722971264, Ground Truth: -0.022336153607048964\n",
      "Treatment: V13, Outcome: V29, Error: 0.001017312349166041, Estimation: 2.945981994979527, Ground Truth: 2.9778773292647487\n",
      "Treatment: V18, Outcome: V38, Error: 4.158773132108645e-05, Estimation: 0.045226809752239645, Ground Truth: 0.03877795471269298\n",
      "Treatment: V14, Outcome: V28, Error: 1.615382884408399e-15, Estimation: 1.0538240014845253, Ground Truth: 1.0538239612926992\n",
      "Treatment: V14, Outcome: V29, Error: 1.943203883491545e-05, Estimation: 1.015409576367618, Ground Truth: 1.0198177549977232\n",
      "Treatment: V25, Outcome: V45, Error: 0.0014759031242827345, Estimation: 0.683153879461276, Ground Truth: 0.7215713640780848\n",
      "Treatment: V17, Outcome: V24, Error: 0.005142346989897827, Estimation: 0.00923764815085052, Ground Truth: -0.06247251144943085\n",
      "Treatment: V25, Outcome: V48, Error: 0.0007814244208109776, Estimation: 0.040324113196000426, Ground Truth: 0.012370143517062558\n",
      "Treatment: V24, Outcome: V43, Error: 2.4504968276013833e-05, Estimation: 0.32190196621770667, Ground Truth: 0.3268522155322376\n",
      "Treatment: V12, Outcome: V35, Error: 0.003288131856159553, Estimation: 0.9411487256741443, Ground Truth: 0.9984909601628661\n",
      "Treatment: V25, Outcome: V39, Error: 0.0006588993721475986, Estimation: 0.47398781067212636, Ground Truth: 0.499656845950991\n",
      "Treatment: V15, Outcome: V29, Error: 0.00015247866690863316, Estimation: 1.819720691949572, Ground Truth: 1.8320689172029692\n",
      "Treatment: V19, Outcome: V28, Error: 0.00040870394133640944, Estimation: -0.0034650884129697706, Ground Truth: -0.023681515924684333\n",
      "Treatment: V18, Outcome: V22, Error: 5.803303631985137e-05, Estimation: 0.006422848463337172, Ground Truth: -0.0011950932744192524\n",
      "Treatment: V18, Outcome: V37, Error: 4.48867210826384e-05, Estimation: 0.14953894343311974, Ground Truth: 0.14283918813291374\n",
      "Treatment: V17, Outcome: V27, Error: 0.0005602934111277599, Estimation: 0.20898456777898622, Ground Truth: 0.23265508554112568\n",
      "Treatment: V10, Outcome: V15, Error: 2.0356185928955923e-05, Estimation: 0.6211469360757027, Ground Truth: 0.6256587190856618\n",
      "Treatment: V22, Outcome: V37, Error: 5.107067338175774e-05, Estimation: 0.9231058047559952, Ground Truth: 0.9159594299140381\n",
      "Treatment: V17, Outcome: V36, Error: 0.00019862148396959878, Estimation: 1.3334106803721524, Ground Truth: 1.3193173669232292\n",
      "Treatment: V11, Outcome: V23, Error: 0.0009349313517328781, Estimation: 1.1680625903810227, Ground Truth: 1.19863923754406\n",
      "Treatment: V20, Outcome: V38, Error: 0.00043932828376172837, Estimation: 0.11658478415896555, Ground Truth: 0.09562462471869104\n",
      "Treatment: V20, Outcome: V39, Error: 0.00014647602558541647, Estimation: 0.829996705702842, Ground Truth: 0.8420994337252928\n",
      "Treatment: V16, Outcome: V38, Error: 0.00012201539458704754, Estimation: 0.5103966603570135, Ground Truth: 0.49935060248159713\n",
      "Treatment: V12, Outcome: V24, Error: 0.0002446201516311517, Estimation: 0.04537782325705312, Ground Truth: 0.029737485932329215\n",
      "Treatment: V35, Outcome: V49, Error: 0.03530024367642598, Estimation: 0.06787330597718633, Ground Truth: 0.2557568967360016\n",
      "Treatment: V34, Outcome: V39, Error: 0.002097327617555479, Estimation: 0.6421107908859395, Ground Truth: 0.6879073804702686\n",
      "Treatment: V39, Outcome: V61, Error: 4.090031576216479e-05, Estimation: 0.0034297777450811792, Ground Truth: -0.0029655577240060207\n",
      "Treatment: V43, Outcome: V65, Error: 8.561696560460533e-07, Estimation: 0.04820281949486832, Ground Truth: 0.049128113856704625\n",
      "Treatment: V23, Outcome: V44, Error: 0.0017618335866362697, Estimation: 0.04062989378151782, Ground Truth: 0.08260409522283496\n",
      "Treatment: V45, Outcome: V47, Error: 4.552249813729405e-05, Estimation: 0.3565787060836509, Ground Truth: 0.34983166983524566\n",
      "Treatment: V13, Outcome: V59, Error: 0.16806231421221926, Estimation: 3.629020389509065, Ground Truth: 3.219066350362944\n",
      "Treatment: V35, Outcome: V75, Error: 0.014946775534172603, Estimation: 0.14780461272848947, Ground Truth: 0.025547606654511838\n",
      "Treatment: V42, Outcome: V61, Error: 0.0045207567824362485, Estimation: -0.04670166812477377, Ground Truth: 0.020534905125476333\n",
      "Treatment: V40, Outcome: V85, Error: 2.312232437018154e-06, Estimation: 0.6894612823596633, Ground Truth: 0.6909818850155265\n",
      "Treatment: V14, Outcome: V20, Error: 0.0005488451432202659, Estimation: 0.0123626368305341, Ground Truth: -0.011064807400970668\n",
      "Treatment: V48, Outcome: V98, Error: 0.00010198863441847926, Estimation: 0.09362901370508189, Ground Truth: 0.10372795594763776\n",
      "Treatment: V47, Outcome: V52, Error: 3.195793385287503e-05, Estimation: 0.0003467523125816404, Ground Truth: 0.0059998871820921\n",
      "Treatment: V23, Outcome: V43, Error: 0.0006350238560399013, Estimation: 0.00011447493316226294, Ground Truth: -0.025085204748133316\n",
      "Treatment: V13, Outcome: V55, Error: 0.008899562362531912, Estimation: 3.3897499106037596, Ground Truth: 3.4840874024218693\n",
      "Treatment: V22, Outcome: V45, Error: 0.00020370155587204605, Estimation: 0.32869292576071796, Ground Truth: 0.3429653311596704\n",
      "Treatment: V36, Outcome: V51, Error: 3.288617555604198e-06, Estimation: 0.06621177639131098, Ground Truth: 0.06439832179976362\n",
      "Treatment: V20, Outcome: V64, Error: 0.0003885819974068351, Estimation: 1.8049469180879938, Ground Truth: 1.8246594013766826\n",
      "Treatment: V13, Outcome: V30, Error: 3.8727382811488706e-14, Estimation: 0.018664277628214036, Ground Truth: 0.018664080835473287\n",
      "Treatment: V18, Outcome: V40, Error: 0.0001669991017602549, Estimation: 0.897930412150581, Ground Truth: 0.8850075989212468\n",
      "Treatment: V26, Outcome: V64, Error: 0.0005598604353740452, Estimation: 0.12018768808201108, Ground Truth: 0.14384905818972135\n",
      "Treatment: V18, Outcome: V37, Error: 3.6570020639557484e-05, Estimation: 0.5194699438646032, Ground Truth: 0.5255172590242057\n",
      "Treatment: V26, Outcome: V71, Error: 0.0007091040259084556, Estimation: 0.8396406069108032, Ground Truth: 0.8130115996835622\n",
      "Treatment: V47, Outcome: V82, Error: 0.0002143143581851319, Estimation: 0.012889453639960045, Ground Truth: 0.027528933076918585\n",
      "Treatment: V11, Outcome: V22, Error: 0.00011368585514289652, Estimation: -0.008032446121062464, Ground Truth: -0.018694803043567756\n",
      "Treatment: V19, Outcome: V25, Error: 0.0015034226691385704, Estimation: -0.0037940840149391104, Ground Truth: -0.04256807876836335\n",
      "Treatment: V50, Outcome: V54, Error: 0.0003315759256561487, Estimation: 0.0019857781294298415, Ground Truth: 0.020195004517614176\n",
      "Treatment: V32, Outcome: V68, Error: 0.020054770908952527, Estimation: 0.17386776028411405, Ground Truth: 0.032252892035922937\n",
      "Treatment: V34, Outcome: V43, Error: 0.003011300288080005, Estimation: 0.5169571440344788, Ground Truth: 0.46208182819866783\n",
      "Treatment: V15, Outcome: V46, Error: 0.01992682297162022, Estimation: 0.5104367393172339, Ground Truth: 0.36927434003321696\n",
      "Treatment: V25, Outcome: V74, Error: 0.01715983995297312, Estimation: 0.8249448652072761, Ground Truth: 0.6939492929425116\n",
      "Treatment: V47, Outcome: V77, Error: 0.00042126721565486605, Estimation: 0.201001446739204, Ground Truth: 0.18047665159638063\n",
      "Treatment: V36, Outcome: V86, Error: 0.00019842291486460095, Estimation: 0.09100947858214731, Ground Truth: 0.07692321169327285\n",
      "Treatment: V30, Outcome: V48, Error: 0.0009650852150489844, Estimation: 0.07928572909952596, Ground Truth: 0.11035154978800905\n",
      "Treatment: V15, Outcome: V52, Error: 0.010150298909860477, Estimation: 0.960568224375195, Ground Truth: 0.8598195325233378\n",
      "Treatment: V13, Outcome: V15, Error: 3.3767537422332535e-06, Estimation: -0.013214627511007625, Ground Truth: -0.011377032957730637\n",
      "Treatment: V37, Outcome: V74, Error: 0.002625146298044873, Estimation: 0.18464444179286615, Ground Truth: 0.23588062332549867\n",
      "Treatment: V48, Outcome: V80, Error: 0.0001785335035524614, Estimation: 0.007271862337595078, Ground Truth: 0.020633505333591543\n",
      "Treatment: V38, Outcome: V82, Error: 0.0001569238387619776, Estimation: 0.2849731101855601, Ground Truth: 0.27244618563234363\n",
      "Treatment: V25, Outcome: V42, Error: 0.00018470724875903889, Estimation: 0.08359300390886476, Ground Truth: 0.09718370840712529\n",
      "Treatment: V30, Outcome: V45, Error: 0.0008369778851487627, Estimation: 0.22081590223810674, Ground Truth: 0.19188533215819364\n",
      "Treatment: V37, Outcome: V64, Error: 0.0001924410080004198, Estimation: -0.006544994487456503, Ground Truth: 0.007327316351059904\n",
      "Treatment: V31, Outcome: V79, Error: 0.0004092305884425634, Estimation: 0.7225256654320906, Ground Truth: 0.7022962168868988\n",
      "Treatment: V12, Outcome: V43, Error: 0.00040485565409567007, Estimation: 0.43511630997433853, Ground Truth: 0.4149952847992718\n",
      "Treatment: V35, Outcome: V52, Error: 6.656978995414712e-05, Estimation: 0.4520371342487866, Ground Truth: 0.4438781030591081\n",
      "Treatment: V26, Outcome: V73, Error: 0.24287155578623892, Estimation: 0.9617745559819247, Ground Truth: 1.4545945594174985\n",
      "Treatment: V50, Outcome: V64, Error: 0.00022047934938570994, Estimation: 0.17331925052848007, Ground Truth: 0.15847070348219605\n",
      "Treatment: V45, Outcome: V53, Error: 0.00021199452039389436, Estimation: 0.11270665460535528, Ground Truth: 0.0981466229984564\n",
      "Treatment: V28, Outcome: V57, Error: 0.007885605769942476, Estimation: 0.06377714868210116, Ground Truth: 0.15257808206651147\n",
      "Treatment: V29, Outcome: V75, Error: 1.946863691505132e-05, Estimation: 0.09624784712795428, Ground Truth: 0.09183551929391347\n",
      "Treatment: V10, Outcome: V40, Error: 5.111374431818889e-16, Estimation: 0.8253579629867769, Ground Truth: 0.8253579403784279\n",
      "Treatment: V42, Outcome: V45, Error: 4.352720462455612e-05, Estimation: 0.00396793803889896, Ground Truth: 0.010565453072952018\n",
      "Treatment: V47, Outcome: V86, Error: 0.0003776435622892135, Estimation: 0.2414273168580315, Ground Truth: 0.2608603702025066\n",
      "Treatment: V21, Outcome: V65, Error: 0.0019514851137359531, Estimation: 2.005263478195211, Ground Truth: 1.9610878614622669\n",
      "Treatment: V20, Outcome: V32, Error: 2.1348615136003325e-05, Estimation: 2.420052050486004, Ground Truth: 2.4246725066470343\n",
      "Treatment: V10, Outcome: V55, Error: 0.01146355641331936, Estimation: 4.512662249288297, Ground Truth: 4.405594250272161\n",
      "Treatment: V25, Outcome: V74, Error: 0.0021536640134537316, Estimation: 1.3443835400628399, Ground Truth: 1.390791125794633\n",
      "Treatment: V49, Outcome: V69, Error: 0.00010497596864017724, Estimation: 0.1988340560119235, Ground Truth: 0.18858827792335564\n",
      "Treatment: V25, Outcome: V67, Error: 0.0002525476270776582, Estimation: 1.0570152137528723, Ground Truth: 1.0729069608902282\n",
      "Treatment: V20, Outcome: V24, Error: 7.742395808517953e-06, Estimation: 0.29929577079053776, Ground Truth: 0.30207828688366606\n",
      "Treatment: V23, Outcome: V63, Error: 0.0028971914519982074, Estimation: 0.5716243297948841, Ground Truth: 0.6254498948360261\n",
      "Treatment: V17, Outcome: V51, Error: 0.0004558151866161709, Estimation: 1.1782442332032117, Ground Truth: 1.1568944044775247\n",
      "Treatment: V41, Outcome: V53, Error: 0.00019802533403547157, Estimation: -0.01999844692747034, Ground Truth: -0.00592629947104168\n",
      "Treatment: V37, Outcome: V50, Error: 1.955263041464768e-05, Estimation: -0.10491747040376108, Ground Truth: -0.10049563476517752\n",
      "Treatment: V33, Outcome: V59, Error: 0.005126412898686317, Estimation: 0.017706113026694212, Ground Truth: -0.053892859722126124\n",
      "Treatment: V43, Outcome: V82, Error: 0.0003066006878474405, Estimation: 0.3780747615699638, Ground Truth: 0.3605647447839227\n",
      "Treatment: V13, Outcome: V58, Error: 0.0023491669424104632, Estimation: 2.3975991359278717, Ground Truth: 2.349130930448295\n",
      "Treatment: V28, Outcome: V33, Error: 8.002386106639702e-05, Estimation: -0.0068102723271256035, Ground Truth: 0.0021353333575889317\n",
      "Treatment: V28, Outcome: V72, Error: 0.00018620096270920435, Estimation: 0.4521888603477488, Ground Truth: 0.4658344077061073\n",
      "Treatment: V27, Outcome: V50, Error: 0.007481127671611288, Estimation: 0.060818195039317687, Ground Truth: -0.025675317270053163\n",
      "Treatment: V38, Outcome: V57, Error: 0.0004709435897676082, Estimation: 0.41934967299520304, Ground Truth: 0.4410509077473458\n",
      "Treatment: V12, Outcome: V33, Error: 0.012315429460650635, Estimation: 0.06640972502734835, Ground Truth: 0.17738462967092367\n",
      "Treatment: V30, Outcome: V70, Error: 0.00020833823027743595, Estimation: 0.012336840389194071, Ground Truth: 0.026770766753057645\n",
      "Treatment: V30, Outcome: V54, Error: 0.0027338192206292035, Estimation: 0.11377760649103658, Ground Truth: 0.061491669369959714\n",
      "Treatment: V48, Outcome: V96, Error: 9.75772999908491e-05, Estimation: 0.08851574310952458, Ground Truth: 0.07863762081878282\n",
      "Treatment: V22, Outcome: V42, Error: 0.0001696129071747098, Estimation: 0.5747663719507116, Ground Truth: 0.5877899239690632\n",
      "Treatment: V39, Outcome: V66, Error: 2.286707168342719e-05, Estimation: 0.19900304387428824, Ground Truth: 0.194221091168183\n",
      "Treatment: V18, Outcome: V57, Error: 0.0006274793077447559, Estimation: 0.45584273401866315, Ground Truth: 0.4808922710951194\n",
      "Treatment: V12, Outcome: V55, Error: 0.010490194110474933, Estimation: 1.981651508191348, Ground Truth: 2.0840731568330044\n",
      "Treatment: V32, Outcome: V66, Error: 0.010424209986120644, Estimation: 0.23569429519332946, Ground Truth: 0.13359527469792684\n",
      "Treatment: V14, Outcome: V61, Error: 0.009610976196982186, Estimation: 0.5574774876907901, Ground Truth: 0.45944190131022017\n",
      "Treatment: V31, Outcome: V38, Error: 0.0011534057837623976, Estimation: 0.007688680315934943, Ground Truth: 0.04165050864955676\n",
      "Treatment: V46, Outcome: V74, Error: 0.0002914832258184059, Estimation: 0.05646975611124618, Ground Truth: 0.07354263594501781\n",
      "Treatment: V15, Outcome: V37, Error: 1.563103136905174e-06, Estimation: 0.03782559936507183, Ground Truth: 0.03657535813358681\n",
      "Treatment: V14, Outcome: V17, Error: 2.5424542401671215e-06, Estimation: -0.07123603448121267, Ground Truth: -0.06964152695844361\n",
      "Treatment: V44, Outcome: V74, Error: 0.0007259079829085507, Estimation: 0.10772230298432116, Ground Truth: 0.13466498256354176\n",
      "Treatment: V15, Outcome: V57, Error: 0.0001940926139911208, Estimation: 3.312962606114266, Ground Truth: 3.3268943186432813\n",
      "Treatment: V27, Outcome: V45, Error: 0.0006683281716979161, Estimation: 0.08883617693112457, Ground Truth: 0.0629841330719262\n",
      "Treatment: V22, Outcome: V39, Error: 0.001815520983741357, Estimation: 0.024214944385571018, Ground Truth: 0.06682387518348423\n",
      "Treatment: V47, Outcome: V71, Error: 0.0006107019913512971, Estimation: -0.011674403735866822, Ground Truth: -0.036386789119542295\n",
      "Treatment: V49, Outcome: V76, Error: 0.0011908091521016448, Estimation: 0.31459521779372857, Ground Truth: 0.2800871150915856\n",
      "Treatment: V20, Outcome: V40, Error: 0.003688387066803833, Estimation: 0.29808639933840747, Ground Truth: 0.35881849189912723\n",
      "Treatment: V47, Outcome: V53, Error: 0.0005150524988153527, Estimation: 0.17602248205985524, Ground Truth: 0.19871725015330252\n",
      "Treatment: V21, Outcome: V64, Error: 0.00024895575090563664, Estimation: 1.199540505761307, Ground Truth: 1.2153188374508628\n",
      "Treatment: V16, Outcome: V52, Error: 7.239275316422273e-15, Estimation: 1.9447667977201935, Ground Truth: 1.9447668828041245\n",
      "Treatment: V40, Outcome: V86, Error: 0.013532566981238548, Estimation: 0.22800898927572397, Ground Truth: 0.3443385512160947\n",
      "Treatment: V10, Outcome: V12, Error: 0.0, Estimation: -1.9319059325419352e-05, Ground Truth: -1.9319059325419352e-05\n",
      "Treatment: V47, Outcome: V96, Error: 2.0277334621281147e-06, Estimation: 0.4285815823579277, Ground Truth: 0.42715759729405656\n",
      "Treatment: V44, Outcome: V80, Error: 0.00024772731040716085, Estimation: 0.09499390495858445, Ground Truth: 0.07925454949506051\n",
      "Treatment: V48, Outcome: V51, Error: 0.00027933407776835215, Estimation: 0.002219080856217958, Ground Truth: 0.018932371309278127\n"
     ]
    }
   ],
   "source": [
    "runs = 100\n",
    "num_nodes = [10, 50, 100]\n",
    "mi_thresholds = [0.02]\n",
    "all_res_suna, gt_dict= accuracy_exp(\n",
    "    runs=runs, num_nodes=num_nodes, mi_thresholds=mi_thresholds, factorized_hist=True, gpu=True)"
   ]
  },
  {
   "cell_type": "code",
   "execution_count": 12,
   "id": "058495b2-3ec9-459c-a6fd-d2c524c2676b",
   "metadata": {},
   "outputs": [
    {
     "data": {
      "text/plain": [
       "{10: {0.02: {'se': 0.046554127758587215,\n",
       "   'size': 145,\n",
       "   'preprocess': 76.24506783485413,\n",
       "   'end_to_end': 13.122114419937134,\n",
       "   'search': 3.575129747390747,\n",
       "   'update_res': 0.2255871295928955}},\n",
       " 50: {0.02: {'se': 0.2825997187403517,\n",
       "   'size': 789,\n",
       "   'preprocess': 76.0426733493805,\n",
       "   'end_to_end': 65.01640129089355,\n",
       "   'search': 16.046019554138184,\n",
       "   'update_res': 1.6546299457550049}},\n",
       " 100: {0.02: {'se': 0.6771994629317486,\n",
       "   'size': 1692,\n",
       "   'preprocess': 76.01000928878784,\n",
       "   'end_to_end': 146.29849481582642,\n",
       "   'search': 41.97637414932251,\n",
       "   'update_res': 4.436155080795288}}}"
      ]
     },
     "execution_count": 12,
     "metadata": {},
     "output_type": "execute_result"
    }
   ],
   "source": [
    "all_res_suna"
   ]
  },
  {
   "cell_type": "code",
   "execution_count": 4,
   "id": "1e8058cd-d81f-406c-bf08-c6f629177d11",
   "metadata": {
    "tags": []
   },
   "outputs": [],
   "source": [
    "# Experiment for Stack Overflow dataset\n",
    "# We preprocess the dataset\n",
    "df = pd.read_csv(\"SO_integrated.csv\")\n",
    "\n",
    "df = df[df['Age'].isin([9, 21, 29])]\n",
    "features = [col for col in df.columns if col not in {'Country', 'Age', 'Currency'}]\n",
    "\n",
    "for col in features:\n",
    "    df = remove_outliers(df, col)\n",
    "\n",
    "treatment = 'EdLevel'\n",
    "outcome = 'CompTotal'\n",
    "\n",
    "df['ID'] = range(1, len(df) + 1)\n",
    "buyer_df = df[['ID', 'Country', treatment, outcome]]\n",
    "\n",
    "\n",
    "seller_1_features = ['gini_index']\n",
    "seller_2_features = ['Human Development Index (HDI) ', 'Expected years of schooling', \n",
    "                     'Mean years of schooling', 'HDI rank']\n",
    "seller_3_features = ['YearsCode', 'ConvertedCompYearly', 'Rate']\n",
    "seller_df_1 = df[['Country'] + seller_1_features].drop_duplicates()\n",
    "seller_df_2 = df[['Country'] + seller_2_features].drop_duplicates()\n",
    "seller_df_3 = df[['ID'] + seller_3_features]\n",
    "\n",
    "ID_domain = buyer_df['ID'].values\n",
    "country_domain = list(buyer_df['Country'].unique())"
   ]
  },
  {
   "cell_type": "code",
   "execution_count": 5,
   "id": "02704d6e-2b2b-4786-aeff-53f589c14f45",
   "metadata": {
    "tags": []
   },
   "outputs": [
    {
     "data": {
      "text/plain": [
       "-9516.986902482622"
      ]
     },
     "execution_count": 5,
     "metadata": {},
     "output_type": "execute_result"
    }
   ],
   "source": [
    "causal_effect(buyer_df, X=treatment, Y=outcome)"
   ]
  },
  {
   "cell_type": "code",
   "execution_count": 6,
   "id": "09f0d7d5-c9cc-4111-8746-99c1b426e654",
   "metadata": {
    "tags": []
   },
   "outputs": [],
   "source": [
    "dm = DataMarket()\n",
    "dm.add_seller(seller_df_1, \"GINI\", [['Country']], \n",
    "              {'Country': country_domain}, seller_1_features)\n",
    "dm.add_seller(seller_df_2, \"HDI\", [['Country']], \n",
    "              {'Country': country_domain}, seller_2_features)\n",
    "dm.add_seller(seller_df_3, \"SO\", [['ID']], \n",
    "              {'ID': ID_domain}, seller_3_features)\n",
    "\n",
    "for data in os.listdir('so_datasets'):\n",
    "    df = pd.read_csv(f'so_datasets/{data}')\n",
    "    # jk_domain = set(list(df['country_standardized'].unique()))\n",
    "    # jk_intersection = jk_domain.intersection(country_domain)\n",
    "    preprocess = Preprocess()\n",
    "    preprocess.load(df, 'country_standardized')\n",
    "    preprocess.agg_by_jk()\n",
    "    preprocess.data = preprocess.data.rename(\n",
    "        columns={'country_standardized': 'Country'})\n",
    "    dm.add_seller(\n",
    "        preprocess.data, data, [['Country']], {'Country': country_domain}, preprocess.X)"
   ]
  },
  {
   "cell_type": "code",
   "execution_count": 7,
   "id": "edbb4760-23b1-4fac-b100-5bb43e5fc9dc",
   "metadata": {
    "tags": []
   },
   "outputs": [],
   "source": [
    "import pickle\n",
    "\n",
    "with open('dm_country.pkl', 'wb') as file:\n",
    "    pickle.dump(dm, file)"
   ]
  },
  {
   "cell_type": "code",
   "execution_count": 8,
   "id": "617a8b1c-3e5f-4be3-ad96-a05fe46a02cf",
   "metadata": {
    "tags": []
   },
   "outputs": [],
   "source": [
    "cd = ConDiscovery(dm, mi_threshold=0.05, verbose=False, factorized_hist=True)\n",
    "target_ce, _, _, _, _, _, ate_so = cd.compute_treatment_effect(\n",
    "    buyer_df, [['ID'], ['Country']], treatment, outcome)"
   ]
  },
  {
   "cell_type": "code",
   "execution_count": 9,
   "id": "63e6074a-6667-4484-bb66-16affa628fa2",
   "metadata": {},
   "outputs": [
    {
     "data": {
      "text/plain": [
       "[-9516.986902482628,\n",
       " -353.9076636895113,\n",
       " 3426.5220731642944,\n",
       " 3477.0016845295877,\n",
       " 3424.0561864202687,\n",
       " 3284.946704395135,\n",
       " 3453.7066241111793,\n",
       " 4973.77519625425,\n",
       " 5136.865708592961,\n",
       " 5198.136150498652,\n",
       " 5491.861941303282,\n",
       " 5551.854660882427,\n",
       " 5571.848023338191,\n",
       " 5588.433067338872,\n",
       " 5569.5434924061055,\n",
       " 5563.601861580063,\n",
       " 5596.956408975614,\n",
       " 5598.978650550357,\n",
       " 5541.203010788577,\n",
       " 5528.206811618528,\n",
       " 5534.280093782337,\n",
       " 5542.976587183421,\n",
       " 5540.596757388481]"
      ]
     },
     "execution_count": 9,
     "metadata": {},
     "output_type": "execute_result"
    }
   ],
   "source": [
    "ate_so"
   ]
  },
  {
   "cell_type": "code",
   "execution_count": 10,
   "id": "cd866245-4f2c-4239-8b6f-841b6332a2f7",
   "metadata": {},
   "outputs": [
    {
     "data": {
      "text/plain": [
       "(['standardized_population_by_country_2020.csv:Land Area (Km²)',\n",
       "  'HDI:Human Development Index (HDI) '],\n",
       " 4615.718419397591)"
      ]
     },
     "execution_count": 10,
     "metadata": {},
     "output_type": "execute_result"
    }
   ],
   "source": [
    "with open('dm_country.pkl', 'rb') as file:\n",
    "    dm = pickle.load(file)\n",
    "prune_confounders(buyer_df, cd, dm, target_ce, treatment, outcome, k=2)"
   ]
  },
  {
   "cell_type": "code",
   "execution_count": 98,
   "id": "dceb2a94-eeec-41b2-8b32-60547d4fbf70",
   "metadata": {
    "tags": []
   },
   "outputs": [],
   "source": [
    "def create_random_datasets(domain_size, num_rows, m, seed):\n",
    "    np.random.seed(seed)\n",
    "    join_key_domain = range(domain_size)\n",
    "    domain_size = len(join_key_domain)\n",
    "    \n",
    "    repetitions = num_rows // domain_size\n",
    "    \n",
    "    # Create the join key column\n",
    "    join_key = np.tile(join_key_domain, repetitions)\n",
    "    \n",
    "    # Create the datasets\n",
    "    df1 = pd.DataFrame({\n",
    "        'join_key': join_key,\n",
    "        'T': np.random.rand(num_rows),\n",
    "        'O': np.random.rand(num_rows)\n",
    "    })\n",
    "    \n",
    "    df2_dict = {'join_key': join_key}\n",
    "    for i in range(m):\n",
    "        df2_dict[f'V{i}'] = np.random.rand(num_rows)\n",
    "    df2 = pd.DataFrame(df2_dict)\n",
    "    \n",
    "    return df1, df2\n",
    "\n",
    "import torch.nn.functional as F\n",
    "\n",
    "def compute_kl_divergence(p_fhm_fwd, p_hist_fwd, epsilon=1e-6):\n",
    "    p_fhm_fwd = p_fhm_fwd.float()\n",
    "    p_hist_fwd = p_hist_fwd.float()\n",
    "    \n",
    "    # Add small epsilon to avoid log(0)\n",
    "    p_fhm_fwd = p_fhm_fwd + epsilon\n",
    "    p_hist_fwd = p_hist_fwd + epsilon\n",
    "    \n",
    "    # Renormalize after adding epsilon\n",
    "    p_fhm_fwd = p_fhm_fwd / p_fhm_fwd.sum(dim=0, keepdim=True)\n",
    "    p_hist_fwd = p_hist_fwd / p_hist_fwd.sum(dim=0, keepdim=True)\n",
    "    \n",
    "    # Compute KL divergence for each column\n",
    "    kl_div = F.kl_div(p_hist_fwd.log(), p_fhm_fwd, reduction='none').sum(dim=0)\n",
    "    \n",
    "    return kl_div"
   ]
  },
  {
   "cell_type": "code",
   "execution_count": 99,
   "id": "6def9f0e-cb2d-48d2-88fa-20d1affb8356",
   "metadata": {
    "tags": []
   },
   "outputs": [],
   "source": [
    "import copy\n",
    "device = 'cpu'\n",
    "num_sample = 10000\n",
    "\n",
    "df1, df2 = create_random_datasets(num_sample, num_sample, 10, seed)\n",
    "df1_copy, df2_copy = copy.deepcopy(df1), copy.deepcopy(df2)\n",
    "dm = DataMarket()\n",
    "dm.add_seller(df2_copy, \"synthetic\", [['join_key']], {'join_key': np.arange(num_sample)}, \n",
    "              [col for col in df2_copy if col != 'join_key'])\n",
    "cd = ConDiscovery(dm, hist=True, factorized_hist=False, device=device, test_histogram=True)\n",
    "_, _, _, _, _, _, _ = cd.compute_treatment_effect(df1_copy, [['join_key']], 'T', 'O')\n",
    "\n",
    "df1_copy, df2_copy = copy.deepcopy(df1), copy.deepcopy(df2)\n",
    "dm = DataMarket()\n",
    "dm.add_seller(df2_copy, \"synthetic\", [['join_key']], {'join_key': np.arange(num_sample)}, \n",
    "              [col for col in df2_copy if col != 'join_key'])\n",
    "cd = ConDiscovery(dm, hist=False, factorized_hist=True, device=device, test_histogram=True)\n",
    "_, _, _, _, _, _, _ = cd.compute_treatment_effect(df1_copy, [['join_key']], 'T', 'O')\n",
    "\n",
    "kl_forward = []\n",
    "kl_backward = []\n",
    "\n",
    "with open(f'fhm_fwd_{num_sample}.pkl', 'rb') as file:\n",
    "    fhm_fwd = pickle.load(file)\n",
    "with open(f'hist_fwd_{num_sample}.pkl', 'rb') as file:\n",
    "    hist_fwd = pickle.load(file)\n",
    "\n",
    "with open(f'fhm_bwd_{num_sample}.pkl', 'rb') as file:\n",
    "    fhm_bwd = pickle.load(file)\n",
    "with open(f'hist_bwd_{num_sample}.pkl', 'rb') as file:\n",
    "    hist_bwd = pickle.load(file)\n",
    "\n",
    "p_fhm_fwd = fhm_fwd/num_sample\n",
    "p_hist_fwd = hist_fwd/num_sample\n",
    "p_fhm_bwd = fhm_bwd/num_sample\n",
    "p_hist_bwd = hist_bwd/num_sample\n",
    "divergence_fwd = compute_kl_divergence(p_fhm_fwd, p_hist_fwd, epsilon=1e-10)\n",
    "divergence_bwd = compute_kl_divergence(p_fhm_bwd, p_hist_bwd, epsilon=1e-10) "
   ]
  },
  {
   "cell_type": "code",
   "execution_count": 100,
   "id": "c54ab470-a9f9-474c-9f7f-aee47b489b78",
   "metadata": {
    "tags": []
   },
   "outputs": [
    {
     "data": {
      "text/plain": [
       "tensor([0.1102, 0.0105, 0.0540, 0.0495, 0.5717, 0.0356, 0.5873, 0.3239, 0.3002,\n",
       "        0.0346])"
      ]
     },
     "execution_count": 100,
     "metadata": {},
     "output_type": "execute_result"
    }
   ],
   "source": [
    "divergence_fwd"
   ]
  },
  {
   "cell_type": "code",
   "execution_count": 101,
   "id": "4db5a30e-6ade-4707-b438-b96d4ac97bda",
   "metadata": {
    "tags": []
   },
   "outputs": [
    {
     "data": {
      "text/plain": [
       "tensor([0.2193, 0.0887, 0.0402, 0.0580, 0.0871, 0.0619, 0.0784, 0.2239, 0.2073,\n",
       "        0.0633])"
      ]
     },
     "execution_count": 101,
     "metadata": {},
     "output_type": "execute_result"
    }
   ],
   "source": [
    "divergence_bwd"
   ]
  }
 ],
 "metadata": {
  "availableInstances": [
   {
    "_defaultOrder": 0,
    "_isFastLaunch": true,
    "category": "General purpose",
    "gpuNum": 0,
    "hideHardwareSpecs": false,
    "memoryGiB": 4,
    "name": "ml.t3.medium",
    "vcpuNum": 2
   },
   {
    "_defaultOrder": 1,
    "_isFastLaunch": false,
    "category": "General purpose",
    "gpuNum": 0,
    "hideHardwareSpecs": false,
    "memoryGiB": 8,
    "name": "ml.t3.large",
    "vcpuNum": 2
   },
   {
    "_defaultOrder": 2,
    "_isFastLaunch": false,
    "category": "General purpose",
    "gpuNum": 0,
    "hideHardwareSpecs": false,
    "memoryGiB": 16,
    "name": "ml.t3.xlarge",
    "vcpuNum": 4
   },
   {
    "_defaultOrder": 3,
    "_isFastLaunch": false,
    "category": "General purpose",
    "gpuNum": 0,
    "hideHardwareSpecs": false,
    "memoryGiB": 32,
    "name": "ml.t3.2xlarge",
    "vcpuNum": 8
   },
   {
    "_defaultOrder": 4,
    "_isFastLaunch": true,
    "category": "General purpose",
    "gpuNum": 0,
    "hideHardwareSpecs": false,
    "memoryGiB": 8,
    "name": "ml.m5.large",
    "vcpuNum": 2
   },
   {
    "_defaultOrder": 5,
    "_isFastLaunch": false,
    "category": "General purpose",
    "gpuNum": 0,
    "hideHardwareSpecs": false,
    "memoryGiB": 16,
    "name": "ml.m5.xlarge",
    "vcpuNum": 4
   },
   {
    "_defaultOrder": 6,
    "_isFastLaunch": false,
    "category": "General purpose",
    "gpuNum": 0,
    "hideHardwareSpecs": false,
    "memoryGiB": 32,
    "name": "ml.m5.2xlarge",
    "vcpuNum": 8
   },
   {
    "_defaultOrder": 7,
    "_isFastLaunch": false,
    "category": "General purpose",
    "gpuNum": 0,
    "hideHardwareSpecs": false,
    "memoryGiB": 64,
    "name": "ml.m5.4xlarge",
    "vcpuNum": 16
   },
   {
    "_defaultOrder": 8,
    "_isFastLaunch": false,
    "category": "General purpose",
    "gpuNum": 0,
    "hideHardwareSpecs": false,
    "memoryGiB": 128,
    "name": "ml.m5.8xlarge",
    "vcpuNum": 32
   },
   {
    "_defaultOrder": 9,
    "_isFastLaunch": false,
    "category": "General purpose",
    "gpuNum": 0,
    "hideHardwareSpecs": false,
    "memoryGiB": 192,
    "name": "ml.m5.12xlarge",
    "vcpuNum": 48
   },
   {
    "_defaultOrder": 10,
    "_isFastLaunch": false,
    "category": "General purpose",
    "gpuNum": 0,
    "hideHardwareSpecs": false,
    "memoryGiB": 256,
    "name": "ml.m5.16xlarge",
    "vcpuNum": 64
   },
   {
    "_defaultOrder": 11,
    "_isFastLaunch": false,
    "category": "General purpose",
    "gpuNum": 0,
    "hideHardwareSpecs": false,
    "memoryGiB": 384,
    "name": "ml.m5.24xlarge",
    "vcpuNum": 96
   },
   {
    "_defaultOrder": 12,
    "_isFastLaunch": false,
    "category": "General purpose",
    "gpuNum": 0,
    "hideHardwareSpecs": false,
    "memoryGiB": 8,
    "name": "ml.m5d.large",
    "vcpuNum": 2
   },
   {
    "_defaultOrder": 13,
    "_isFastLaunch": false,
    "category": "General purpose",
    "gpuNum": 0,
    "hideHardwareSpecs": false,
    "memoryGiB": 16,
    "name": "ml.m5d.xlarge",
    "vcpuNum": 4
   },
   {
    "_defaultOrder": 14,
    "_isFastLaunch": false,
    "category": "General purpose",
    "gpuNum": 0,
    "hideHardwareSpecs": false,
    "memoryGiB": 32,
    "name": "ml.m5d.2xlarge",
    "vcpuNum": 8
   },
   {
    "_defaultOrder": 15,
    "_isFastLaunch": false,
    "category": "General purpose",
    "gpuNum": 0,
    "hideHardwareSpecs": false,
    "memoryGiB": 64,
    "name": "ml.m5d.4xlarge",
    "vcpuNum": 16
   },
   {
    "_defaultOrder": 16,
    "_isFastLaunch": false,
    "category": "General purpose",
    "gpuNum": 0,
    "hideHardwareSpecs": false,
    "memoryGiB": 128,
    "name": "ml.m5d.8xlarge",
    "vcpuNum": 32
   },
   {
    "_defaultOrder": 17,
    "_isFastLaunch": false,
    "category": "General purpose",
    "gpuNum": 0,
    "hideHardwareSpecs": false,
    "memoryGiB": 192,
    "name": "ml.m5d.12xlarge",
    "vcpuNum": 48
   },
   {
    "_defaultOrder": 18,
    "_isFastLaunch": false,
    "category": "General purpose",
    "gpuNum": 0,
    "hideHardwareSpecs": false,
    "memoryGiB": 256,
    "name": "ml.m5d.16xlarge",
    "vcpuNum": 64
   },
   {
    "_defaultOrder": 19,
    "_isFastLaunch": false,
    "category": "General purpose",
    "gpuNum": 0,
    "hideHardwareSpecs": false,
    "memoryGiB": 384,
    "name": "ml.m5d.24xlarge",
    "vcpuNum": 96
   },
   {
    "_defaultOrder": 20,
    "_isFastLaunch": false,
    "category": "General purpose",
    "gpuNum": 0,
    "hideHardwareSpecs": true,
    "memoryGiB": 0,
    "name": "ml.geospatial.interactive",
    "supportedImageNames": [
     "sagemaker-geospatial-v1-0"
    ],
    "vcpuNum": 0
   },
   {
    "_defaultOrder": 21,
    "_isFastLaunch": true,
    "category": "Compute optimized",
    "gpuNum": 0,
    "hideHardwareSpecs": false,
    "memoryGiB": 4,
    "name": "ml.c5.large",
    "vcpuNum": 2
   },
   {
    "_defaultOrder": 22,
    "_isFastLaunch": false,
    "category": "Compute optimized",
    "gpuNum": 0,
    "hideHardwareSpecs": false,
    "memoryGiB": 8,
    "name": "ml.c5.xlarge",
    "vcpuNum": 4
   },
   {
    "_defaultOrder": 23,
    "_isFastLaunch": false,
    "category": "Compute optimized",
    "gpuNum": 0,
    "hideHardwareSpecs": false,
    "memoryGiB": 16,
    "name": "ml.c5.2xlarge",
    "vcpuNum": 8
   },
   {
    "_defaultOrder": 24,
    "_isFastLaunch": false,
    "category": "Compute optimized",
    "gpuNum": 0,
    "hideHardwareSpecs": false,
    "memoryGiB": 32,
    "name": "ml.c5.4xlarge",
    "vcpuNum": 16
   },
   {
    "_defaultOrder": 25,
    "_isFastLaunch": false,
    "category": "Compute optimized",
    "gpuNum": 0,
    "hideHardwareSpecs": false,
    "memoryGiB": 72,
    "name": "ml.c5.9xlarge",
    "vcpuNum": 36
   },
   {
    "_defaultOrder": 26,
    "_isFastLaunch": false,
    "category": "Compute optimized",
    "gpuNum": 0,
    "hideHardwareSpecs": false,
    "memoryGiB": 96,
    "name": "ml.c5.12xlarge",
    "vcpuNum": 48
   },
   {
    "_defaultOrder": 27,
    "_isFastLaunch": false,
    "category": "Compute optimized",
    "gpuNum": 0,
    "hideHardwareSpecs": false,
    "memoryGiB": 144,
    "name": "ml.c5.18xlarge",
    "vcpuNum": 72
   },
   {
    "_defaultOrder": 28,
    "_isFastLaunch": false,
    "category": "Compute optimized",
    "gpuNum": 0,
    "hideHardwareSpecs": false,
    "memoryGiB": 192,
    "name": "ml.c5.24xlarge",
    "vcpuNum": 96
   },
   {
    "_defaultOrder": 29,
    "_isFastLaunch": true,
    "category": "Accelerated computing",
    "gpuNum": 1,
    "hideHardwareSpecs": false,
    "memoryGiB": 16,
    "name": "ml.g4dn.xlarge",
    "vcpuNum": 4
   },
   {
    "_defaultOrder": 30,
    "_isFastLaunch": false,
    "category": "Accelerated computing",
    "gpuNum": 1,
    "hideHardwareSpecs": false,
    "memoryGiB": 32,
    "name": "ml.g4dn.2xlarge",
    "vcpuNum": 8
   },
   {
    "_defaultOrder": 31,
    "_isFastLaunch": false,
    "category": "Accelerated computing",
    "gpuNum": 1,
    "hideHardwareSpecs": false,
    "memoryGiB": 64,
    "name": "ml.g4dn.4xlarge",
    "vcpuNum": 16
   },
   {
    "_defaultOrder": 32,
    "_isFastLaunch": false,
    "category": "Accelerated computing",
    "gpuNum": 1,
    "hideHardwareSpecs": false,
    "memoryGiB": 128,
    "name": "ml.g4dn.8xlarge",
    "vcpuNum": 32
   },
   {
    "_defaultOrder": 33,
    "_isFastLaunch": false,
    "category": "Accelerated computing",
    "gpuNum": 4,
    "hideHardwareSpecs": false,
    "memoryGiB": 192,
    "name": "ml.g4dn.12xlarge",
    "vcpuNum": 48
   },
   {
    "_defaultOrder": 34,
    "_isFastLaunch": false,
    "category": "Accelerated computing",
    "gpuNum": 1,
    "hideHardwareSpecs": false,
    "memoryGiB": 256,
    "name": "ml.g4dn.16xlarge",
    "vcpuNum": 64
   },
   {
    "_defaultOrder": 35,
    "_isFastLaunch": false,
    "category": "Accelerated computing",
    "gpuNum": 1,
    "hideHardwareSpecs": false,
    "memoryGiB": 61,
    "name": "ml.p3.2xlarge",
    "vcpuNum": 8
   },
   {
    "_defaultOrder": 36,
    "_isFastLaunch": false,
    "category": "Accelerated computing",
    "gpuNum": 4,
    "hideHardwareSpecs": false,
    "memoryGiB": 244,
    "name": "ml.p3.8xlarge",
    "vcpuNum": 32
   },
   {
    "_defaultOrder": 37,
    "_isFastLaunch": false,
    "category": "Accelerated computing",
    "gpuNum": 8,
    "hideHardwareSpecs": false,
    "memoryGiB": 488,
    "name": "ml.p3.16xlarge",
    "vcpuNum": 64
   },
   {
    "_defaultOrder": 38,
    "_isFastLaunch": false,
    "category": "Accelerated computing",
    "gpuNum": 8,
    "hideHardwareSpecs": false,
    "memoryGiB": 768,
    "name": "ml.p3dn.24xlarge",
    "vcpuNum": 96
   },
   {
    "_defaultOrder": 39,
    "_isFastLaunch": false,
    "category": "Memory Optimized",
    "gpuNum": 0,
    "hideHardwareSpecs": false,
    "memoryGiB": 16,
    "name": "ml.r5.large",
    "vcpuNum": 2
   },
   {
    "_defaultOrder": 40,
    "_isFastLaunch": false,
    "category": "Memory Optimized",
    "gpuNum": 0,
    "hideHardwareSpecs": false,
    "memoryGiB": 32,
    "name": "ml.r5.xlarge",
    "vcpuNum": 4
   },
   {
    "_defaultOrder": 41,
    "_isFastLaunch": false,
    "category": "Memory Optimized",
    "gpuNum": 0,
    "hideHardwareSpecs": false,
    "memoryGiB": 64,
    "name": "ml.r5.2xlarge",
    "vcpuNum": 8
   },
   {
    "_defaultOrder": 42,
    "_isFastLaunch": false,
    "category": "Memory Optimized",
    "gpuNum": 0,
    "hideHardwareSpecs": false,
    "memoryGiB": 128,
    "name": "ml.r5.4xlarge",
    "vcpuNum": 16
   },
   {
    "_defaultOrder": 43,
    "_isFastLaunch": false,
    "category": "Memory Optimized",
    "gpuNum": 0,
    "hideHardwareSpecs": false,
    "memoryGiB": 256,
    "name": "ml.r5.8xlarge",
    "vcpuNum": 32
   },
   {
    "_defaultOrder": 44,
    "_isFastLaunch": false,
    "category": "Memory Optimized",
    "gpuNum": 0,
    "hideHardwareSpecs": false,
    "memoryGiB": 384,
    "name": "ml.r5.12xlarge",
    "vcpuNum": 48
   },
   {
    "_defaultOrder": 45,
    "_isFastLaunch": false,
    "category": "Memory Optimized",
    "gpuNum": 0,
    "hideHardwareSpecs": false,
    "memoryGiB": 512,
    "name": "ml.r5.16xlarge",
    "vcpuNum": 64
   },
   {
    "_defaultOrder": 46,
    "_isFastLaunch": false,
    "category": "Memory Optimized",
    "gpuNum": 0,
    "hideHardwareSpecs": false,
    "memoryGiB": 768,
    "name": "ml.r5.24xlarge",
    "vcpuNum": 96
   },
   {
    "_defaultOrder": 47,
    "_isFastLaunch": false,
    "category": "Accelerated computing",
    "gpuNum": 1,
    "hideHardwareSpecs": false,
    "memoryGiB": 16,
    "name": "ml.g5.xlarge",
    "vcpuNum": 4
   },
   {
    "_defaultOrder": 48,
    "_isFastLaunch": false,
    "category": "Accelerated computing",
    "gpuNum": 1,
    "hideHardwareSpecs": false,
    "memoryGiB": 32,
    "name": "ml.g5.2xlarge",
    "vcpuNum": 8
   },
   {
    "_defaultOrder": 49,
    "_isFastLaunch": false,
    "category": "Accelerated computing",
    "gpuNum": 1,
    "hideHardwareSpecs": false,
    "memoryGiB": 64,
    "name": "ml.g5.4xlarge",
    "vcpuNum": 16
   },
   {
    "_defaultOrder": 50,
    "_isFastLaunch": false,
    "category": "Accelerated computing",
    "gpuNum": 1,
    "hideHardwareSpecs": false,
    "memoryGiB": 128,
    "name": "ml.g5.8xlarge",
    "vcpuNum": 32
   },
   {
    "_defaultOrder": 51,
    "_isFastLaunch": false,
    "category": "Accelerated computing",
    "gpuNum": 1,
    "hideHardwareSpecs": false,
    "memoryGiB": 256,
    "name": "ml.g5.16xlarge",
    "vcpuNum": 64
   },
   {
    "_defaultOrder": 52,
    "_isFastLaunch": false,
    "category": "Accelerated computing",
    "gpuNum": 4,
    "hideHardwareSpecs": false,
    "memoryGiB": 192,
    "name": "ml.g5.12xlarge",
    "vcpuNum": 48
   },
   {
    "_defaultOrder": 53,
    "_isFastLaunch": false,
    "category": "Accelerated computing",
    "gpuNum": 4,
    "hideHardwareSpecs": false,
    "memoryGiB": 384,
    "name": "ml.g5.24xlarge",
    "vcpuNum": 96
   },
   {
    "_defaultOrder": 54,
    "_isFastLaunch": false,
    "category": "Accelerated computing",
    "gpuNum": 8,
    "hideHardwareSpecs": false,
    "memoryGiB": 768,
    "name": "ml.g5.48xlarge",
    "vcpuNum": 192
   },
   {
    "_defaultOrder": 55,
    "_isFastLaunch": false,
    "category": "Accelerated computing",
    "gpuNum": 8,
    "hideHardwareSpecs": false,
    "memoryGiB": 1152,
    "name": "ml.p4d.24xlarge",
    "vcpuNum": 96
   },
   {
    "_defaultOrder": 56,
    "_isFastLaunch": false,
    "category": "Accelerated computing",
    "gpuNum": 8,
    "hideHardwareSpecs": false,
    "memoryGiB": 1152,
    "name": "ml.p4de.24xlarge",
    "vcpuNum": 96
   },
   {
    "_defaultOrder": 57,
    "_isFastLaunch": false,
    "category": "Accelerated computing",
    "gpuNum": 0,
    "hideHardwareSpecs": false,
    "memoryGiB": 32,
    "name": "ml.trn1.2xlarge",
    "vcpuNum": 8
   },
   {
    "_defaultOrder": 58,
    "_isFastLaunch": false,
    "category": "Accelerated computing",
    "gpuNum": 0,
    "hideHardwareSpecs": false,
    "memoryGiB": 512,
    "name": "ml.trn1.32xlarge",
    "vcpuNum": 128
   },
   {
    "_defaultOrder": 59,
    "_isFastLaunch": false,
    "category": "Accelerated computing",
    "gpuNum": 0,
    "hideHardwareSpecs": false,
    "memoryGiB": 512,
    "name": "ml.trn1n.32xlarge",
    "vcpuNum": 128
   }
  ],
  "instance_type": "ml.m5.4xlarge",
  "kernelspec": {
   "display_name": "Python 3 (Data Science 2.0)",
   "language": "python",
   "name": "python3__SAGEMAKER_INTERNAL__arn:aws:sagemaker:us-east-1:081325390199:image/sagemaker-data-science-38"
  },
  "language_info": {
   "codemirror_mode": {
    "name": "ipython",
    "version": 3
   },
   "file_extension": ".py",
   "mimetype": "text/x-python",
   "name": "python",
   "nbconvert_exporter": "python",
   "pygments_lexer": "ipython3",
   "version": "3.8.18"
  }
 },
 "nbformat": 4,
 "nbformat_minor": 5
}
